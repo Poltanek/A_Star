{
 "cells": [
  {
   "cell_type": "code",
   "execution_count": 2,
   "metadata": {
    "colab": {
     "base_uri": "https://localhost:8080/"
    },
    "id": "bLwnqUkTR4_6",
    "outputId": "3efbcc46-8204-428e-e7ac-9e99e5aec9d2"
   },
   "outputs": [],
   "source": [
    "import numpy as np\n",
    "import math\n",
    "import heapq\n",
    "\n",
    "class Node:\n",
    "    \"\"\"\n",
    "    A node class for A* Pathfinding.\n",
    "    \"\"\"\n",
    "    def __init__(self, parent=None, position=None):\n",
    "        self.parent = parent\n",
    "        self.position = position\n",
    "        self.g = 0\n",
    "        self.h = 0\n",
    "        self.f = 0\n",
    "\n",
    "    def __eq__(self, other):\n",
    "        return self.position == other.position\n",
    "\n",
    "    def __lt__(self, other):\n",
    "        return self.f < other.f  # For heap comparison based on f-value\n",
    "\n",
    "\n",
    "def return_path(current_node, maze):\n",
    "    \"\"\"\n",
    "    Returns the path from start to end by backtracking parents.\n",
    "    \"\"\"\n",
    "    path = []\n",
    "    no_rows, no_columns = np.shape(maze)\n",
    "    result = [[-1 for _ in range(no_columns)] for _ in range(no_rows)]\n",
    "    current = current_node\n",
    "    while current is not None:\n",
    "        path.append(current.position)\n",
    "        current = current.parent\n",
    "    path = path[::-1]  # Reverse to start-to-end order\n",
    "    for i, position in enumerate(path):\n",
    "        result[position[0]][position[1]] = i\n",
    "    return result\n",
    "\n",
    "\n",
    "def search(maze, cost, start, end):\n",
    "    \"\"\"\n",
    "    A* search using a Min-Heap for priority queue.\n",
    "    \"\"\"\n",
    "    start_node = Node(None, tuple(start))\n",
    "    end_node = Node(None, tuple(end))\n",
    "    start_node.g = start_node.h = start_node.f = 0\n",
    "    end_node.g = end_node.h = end_node.f = 0\n",
    "\n",
    "    # Min-Heap for open list\n",
    "    open_list = []\n",
    "    closed_list = set()\n",
    "\n",
    "    # Add the start node to the heap\n",
    "    heapq.heappush(open_list, start_node)\n",
    "\n",
    "    move = [[-1, 0], [0, -1], [1, 0], [0, 1]]  # Up, Left, Down, Right\n",
    "    no_rows, no_columns = np.shape(maze)\n",
    "\n",
    "    while open_list:\n",
    "        # Pop the node with the lowest f-value\n",
    "        current_node = heapq.heappop(open_list)\n",
    "        closed_list.add(current_node.position)\n",
    "\n",
    "        # If goal is reached, return the path\n",
    "        if current_node == end_node:\n",
    "            return return_path(current_node, maze)\n",
    "\n",
    "        # Generate children\n",
    "        for new_position in move:\n",
    "            node_position = (current_node.position[0] + new_position[0],\n",
    "                             current_node.position[1] + new_position[1])\n",
    "\n",
    "            # Check if within bounds\n",
    "            if (node_position[0] < 0 or node_position[0] >= no_rows or\n",
    "                node_position[1] < 0 or node_position[1] >= no_columns):\n",
    "                continue\n",
    "\n",
    "            # Check if walkable\n",
    "            if maze[node_position[0]][node_position[1]] != 0:\n",
    "                continue\n",
    "\n",
    "            child = Node(current_node, node_position)\n",
    "\n",
    "            # If already evaluated, skip\n",
    "            if child.position in closed_list:\n",
    "                continue\n",
    "\n",
    "            # Calculate g, h, and f values\n",
    "            child.g = current_node.g + cost\n",
    "            child.h = math.sqrt((child.position[0] - end_node.position[0]) ** 2 +\n",
    "                                (child.position[1] - end_node.position[1]) ** 2)  # Euclidean\n",
    "            child.f = child.g + child.h\n",
    "\n",
    "            # If already in open list with lower g, skip\n",
    "            if any(open_node for open_node in open_list if child == open_node and child.g >= open_node.g):\n",
    "                continue\n",
    "\n",
    "            # Add the child to the heap\n",
    "            heapq.heappush(open_list, child)\n",
    "\n",
    "\n",
    "if __name__ == '__main__':\n",
    "    maze = [[0, 1, 0, 0, 0, 0],\n",
    "            [0, 0, 0, 1, 1, 0],\n",
    "            [0, 1, 1, 1, 0, 0],\n",
    "            [0, 1, 0, 0, 0, 1],\n",
    "            [0, 0, 0, 1, 0, 0]]\n",
    "\n",
    "    start = [0, 0]  # Starting position\n",
    "    end = [4, 5]    # Ending position\n",
    "    cost = 1        # Cost per movement\n",
    "\n",
    "    path = search(maze, cost, start, end)\n"
   ]
  },
  {
   "cell_type": "markdown",
   "metadata": {
    "id": "pduy8YdlR5AA"
   },
   "source": [
    "## Final result path"
   ]
  },
  {
   "cell_type": "code",
   "execution_count": 16,
   "metadata": {
    "colab": {
     "base_uri": "https://localhost:8080/"
    },
    "id": "U_LMWUBvR5AB",
    "outputId": "68e5894b-4312-405e-ff3a-32fa8856367a"
   },
   "outputs": [
    {
     "name": "stdout",
     "output_type": "stream",
     "text": [
      "  0 -1 -1 -1 -1 -1\n",
      "  1 -1 -1 -1 -1 -1\n",
      "  2 -1 -1 -1 -1 -1\n",
      "  3 -1  7  8  9 -1\n",
      "  4  5  6 -1 10 11\n"
     ]
    }
   ],
   "source": [
    "print('\\n'.join([''.join([\"{:\" \">3d}\".format(item) for item in row])\n",
    "      for row in path]))"
   ]
  },
  {
   "cell_type": "code",
   "execution_count": null,
   "metadata": {
    "id": "f_LlbpG3R5AC"
   },
   "outputs": [],
   "source": []
  }
 ],
 "metadata": {
  "colab": {
   "provenance": []
  },
  "kernelspec": {
   "display_name": "Python 3",
   "language": "python",
   "name": "python3"
  },
  "language_info": {
   "codemirror_mode": {
    "name": "ipython",
    "version": 3
   },
   "file_extension": ".py",
   "mimetype": "text/x-python",
   "name": "python",
   "nbconvert_exporter": "python",
   "pygments_lexer": "ipython3",
   "version": "3.12.6"
  }
 },
 "nbformat": 4,
 "nbformat_minor": 0
}
